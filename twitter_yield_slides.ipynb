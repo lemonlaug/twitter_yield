{
 "metadata": {
  "celltoolbar": "Slideshow",
  "name": "",
  "signature": "sha256:f0b1f50981af3b3c01ee6c796af46986d8661eed4563c69667c3e56919b9de03"
 },
 "nbformat": 3,
 "nbformat_minor": 0,
 "worksheets": [
  {
   "cells": [
    {
     "cell_type": "code",
     "collapsed": false,
     "input": [
      "from IPython.display import HTML, Image"
     ],
     "language": "python",
     "metadata": {
      "slideshow": {
       "slide_type": "skip"
      }
     },
     "outputs": [],
     "prompt_number": 24
    },
    {
     "cell_type": "markdown",
     "metadata": {
      "slideshow": {
       "slide_type": "slide"
      }
     },
     "source": [
      "Isaac Laughlin\n",
      "==============\n",
      "_Data Scientist/Modeler - Yield Management_\n",
      "\n",
      "\n",
      "## Recent Experience\n",
      "\n",
      " Where | What | When\n",
      "--------|-------\n",
      " TrueCar | Car price prediction, Optimizing SEM, Predicting Sales | 2010 - 2014\n",
      " Creds.me | Co-founder of platform for soliciting peoples' beliefs about the future | 2011 - \n",
      " U. Wisconsin | Masters in Operations Research | 2008 - 2006\n",
      " Federal Reserve Board of Governors | Making charts for the Chairman, collecting novel data sets for economic research | 2006 - 2008"
     ]
    },
    {
     "cell_type": "code",
     "collapsed": false,
     "input": [
      "tweets = [HTML('<blockquote class=\"twitter-tweet\" lang=\"en\"><p>Ever wanted to use <a href=\"https://twitter.com/Spotify\">@spotify</a>&#39;s excellent <a href=\"https://twitter.com/hashtag/Luigi?src=hash\">#Luigi</a> with <a href=\"https://twitter.com/hashtag/avro?src=hash\">#avro</a>? Maybe you&#39;ll find this useful: <a href=\"https://t.co/ejyOz3NaCD\">https://t.co/ejyOz3NaCD</a></p>&mdash; Isaac Laughlin (@lemonlaug) <a href=\"https://twitter.com/lemonlaug/status/469588490875719680\">May 22, 2014</a></blockquote><script async src=\"//platform.twitter.com/widgets.js\" charset=\"utf-8\"></script>'),\n",
      "HTML('<blockquote class=\"twitter-tweet\" lang=\"en\"><p>Stop the presses! Infeasible solution is superoptimal! <a href=\"http://t.co/0Vas8Pjxnp\">http://t.co/0Vas8Pjxnp</a></p>&mdash; Isaac Laughlin (@lemonlaug) <a href=\"https://twitter.com/lemonlaug/status/529691828988039168\">November 4, 2014</a></blockquote><script async src=\"//platform.twitter.com/widgets.js\" charset=\"utf-8\"></script>'),\n",
      "HTML('<blockquote class=\"twitter-tweet\" lang=\"en\"><p>When you re-implement code in python while waiting for SAS support to come up with a solution to your mysterious floating point error. <a href=\"https://twitter.com/hashtag/whee?src=hash\">#whee</a></p>&mdash; Isaac Laughlin (@lemonlaug) <a href=\"https://twitter.com/lemonlaug/status/421714234292977664\">January 10, 2014</a></blockquote><script async src=\"//platform.twitter.com/widgets.js\" charset=\"utf-8\"></script>'),\n",
      "HTML('<blockquote class=\"twitter-tweet\" lang=\"en\"><p>Cool to see my project <a href=\"https://twitter.com/credsme\">@credsme</a> mentioned in this article! <a href=\"http://t.co/YXxFvYqOms\">http://t.co/YXxFvYqOms</a></p>&mdash; Isaac Laughlin (@lemonlaug) <a href=\"https://twitter.com/lemonlaug/status/553619317808308224\">January 9, 2015</a></blockquote><script async src=\"//platform.twitter.com/widgets.js\" charset=\"utf-8\"></script>')]"
     ],
     "language": "python",
     "metadata": {
      "slideshow": {
       "slide_type": "skip"
      }
     },
     "outputs": [],
     "prompt_number": 20
    },
    {
     "cell_type": "markdown",
     "metadata": {
      "slideshow": {
       "slide_type": "subslide"
      }
     },
     "source": [
      "# I love to use modern tools\n",
      "## Python, R, Git, Hadoop"
     ]
    },
    {
     "cell_type": "code",
     "collapsed": false,
     "input": [
      "tweets[0]"
     ],
     "language": "python",
     "metadata": {
      "slideshow": {
       "slide_type": "fragment"
      }
     },
     "outputs": [
      {
       "html": [
        "<blockquote class=\"twitter-tweet\" lang=\"en\"><p>Ever wanted to use <a href=\"https://twitter.com/Spotify\">@spotify</a>&#39;s excellent <a href=\"https://twitter.com/hashtag/Luigi?src=hash\">#Luigi</a> with <a href=\"https://twitter.com/hashtag/avro?src=hash\">#avro</a>? Maybe you&#39;ll find this useful: <a href=\"https://t.co/ejyOz3NaCD\">https://t.co/ejyOz3NaCD</a></p>&mdash; Isaac Laughlin (@lemonlaug) <a href=\"https://twitter.com/lemonlaug/status/469588490875719680\">May 22, 2014</a></blockquote><script async src=\"//platform.twitter.com/widgets.js\" charset=\"utf-8\"></script>"
       ],
       "metadata": {},
       "output_type": "pyout",
       "prompt_number": 21,
       "text": [
        "<IPython.core.display.HTML at 0x108a7b150>"
       ]
      }
     ],
     "prompt_number": 21
    },
    {
     "cell_type": "markdown",
     "metadata": {
      "slideshow": {
       "slide_type": "subslide"
      }
     },
     "source": [
      "#I appreciate theoretical rigor"
     ]
    },
    {
     "cell_type": "code",
     "collapsed": false,
     "input": [
      "tweets[1]"
     ],
     "language": "python",
     "metadata": {
      "slideshow": {
       "slide_type": "fragment"
      }
     },
     "outputs": [
      {
       "html": [
        "<blockquote class=\"twitter-tweet\" lang=\"en\"><p>Stop the presses! Infeasible solution is superoptimal! <a href=\"http://t.co/0Vas8Pjxnp\">http://t.co/0Vas8Pjxnp</a></p>&mdash; Isaac Laughlin (@lemonlaug) <a href=\"https://twitter.com/lemonlaug/status/529691828988039168\">November 4, 2014</a></blockquote><script async src=\"//platform.twitter.com/widgets.js\" charset=\"utf-8\"></script>"
       ],
       "metadata": {},
       "output_type": "pyout",
       "prompt_number": 22,
       "text": [
        "<IPython.core.display.HTML at 0x108a7b4d0>"
       ]
      }
     ],
     "prompt_number": 22
    },
    {
     "cell_type": "markdown",
     "metadata": {
      "slideshow": {
       "slide_type": "subslide"
      }
     },
     "source": [
      "#But I get things done"
     ]
    },
    {
     "cell_type": "code",
     "collapsed": false,
     "input": [
      "tweets[2]"
     ],
     "language": "python",
     "metadata": {
      "slideshow": {
       "slide_type": "fragment"
      }
     },
     "outputs": [
      {
       "html": [
        "<blockquote class=\"twitter-tweet\" lang=\"en\"><p>When you re-implement code in python while waiting for SAS support to come up with a solution to your mysterious floating point error. <a href=\"https://twitter.com/hashtag/whee?src=hash\">#whee</a></p>&mdash; Isaac Laughlin (@lemonlaug) <a href=\"https://twitter.com/lemonlaug/status/421714234292977664\">January 10, 2014</a></blockquote><script async src=\"//platform.twitter.com/widgets.js\" charset=\"utf-8\"></script>"
       ],
       "metadata": {},
       "output_type": "pyout",
       "prompt_number": 23,
       "text": [
        "<IPython.core.display.HTML at 0x108a7b510>"
       ]
      }
     ],
     "prompt_number": 23
    },
    {
     "cell_type": "markdown",
     "metadata": {
      "slideshow": {
       "slide_type": "slide"
      }
     },
     "source": [
      "#Twitter Ad Inventory Segmentation \n",
      "\n",
      "* Consider single segmentation dimension: interests. I call them interest categories or categories.\n",
      "* Users can have multiple interest categories.\n",
      " * $C_{U_i}$ set of categories for a given user.\n",
      "* Advertisers can target multiple interest categories.\n",
      " * $ C_{A_i} $ set of targeted categories for a given auction, $ C_{A_i}^* $ the targeted category of winning bid.\n",
      "* Advertisers belong to a small number of verticals.\n",
      "* An auction takes some user, and some advertisers who target that user via one of his/her categories and assigns a winning bid to be paid only in the event of a click.\n",
      " * $ B_{A_i} $ the winning bid for some auction."
     ]
    },
    {
     "cell_type": "markdown",
     "metadata": {
      "slideshow": {
       "slide_type": "subslide"
      }
     },
     "source": [
      "#Basic Metrics\n",
      "Define some metrics for an interest category $j$ where $N$ is total pieces inventory for some period:\n",
      "* Supply, the possible number of ads for a given segment $ V_j = \\sum_{i=1}^N I(j \\in C_{U_i}) $\n",
      "* Sell-Thru, the share of ads sold relative to the maximum possible $ S_j = \\frac{\\sum_i^N I(j = C_{A_i}^*) * I(A_i^{clicked})}{\\sum_{i=1}^N I(j \\in C_{U_i})} $\n",
      " * Note there is a related concept of Show-Thru, which counts ads that prevail in auction regardless of whether they're clicked $ H_j = \\frac{\\sum_{i=1}^N I(j \\in C_{A_i}^*)}{\\sum_{i=1}^N I(j \\in C_{U_i})} $\n",
      " * These are related. Categories that have high show-thru are expected at auction to have high sell-thru.\n",
      "* CPM (Cost Per Mille), cost to advertisers to receive 1000 impressions: $ 1000*\\frac{\\sum_{i=1}^N B_{A_i} I(j = C_{A_i}^*) * I(A_i^{clicked})}{H_j} $"
     ]
    },
    {
     "cell_type": "markdown",
     "metadata": {
      "slideshow": {
       "slide_type": "subslide"
      }
     },
     "source": [
      "What interest categories are supply constrained?\n",
      "==============\n",
      "\n",
      "## Sell-Thru\n",
      "\n",
      "Sell-Thru counts the percentage of times an interest category won an auction in which it was available.\n",
      " * Since each piece of inventory can belong to multiple categories high sell-thru means that category wins auctions against other categories regularly.\n",
      " * Supply constrained categories could be identified as categories that have high sell-thru.\n",
      " \n",
      "## Intuitively\n",
      "\n",
      "In a business sense, we want more inventory that we expect to be able to sell profitably, so having more things that we've been able to sell in the past makes sense."
     ]
    },
    {
     "cell_type": "markdown",
     "metadata": {
      "slideshow": {
       "slide_type": "subslide"
      }
     },
     "source": [
      "## More generally\n",
      "\n",
      "* $MC$ is opportunity cost of showing a user a different ad.\n",
      "* $MR$ is the expected revenue earned from an ad in a Vickrey auction.\n",
      "\n",
      "Economics says supply constrained categories have $MR > MC$.\n",
      "\n",
      "$$ argmax_{j \\in C_{A_i} \\cap C_{U_i}}\\{ E_{U_i, A_i, j}[R] \\} $$\n",
      "\n",
      "This is what is decided in the Vickrey auction for a piece of inventory! So sell-thru should reflect this.\n",
      "\n",
      "This may be limited by optimizing over $ j \\in C_{A_i} \\cap C_{U_i} $. An alternative:\n",
      "\n",
      "$$ argmax_{j \\in C_{A_i}}\\{ E_{U_i, A_i, j}[R] \\} $$\n",
      "\n",
      "would tell us for every auction what additional user interests we would most like to have. This probably requires computing data that isn't already computed in auction logs."
     ]
    },
    {
     "cell_type": "markdown",
     "metadata": {
      "slideshow": {
       "slide_type": "subslide"
      }
     },
     "source": [
      "What interest categories are over-supplied?\n",
      "=========\n",
      "\n",
      "## (Not) Sold-Thru\n",
      "\n",
      "If an ad targeting a particular category rarely wins an auction, then we would say this category is over-supplied. Such categories are expected to have inferior revenue to winning categories.\n",
      "\n",
      "## Generally\n",
      "\n",
      "We look for cases where $MR < MC$ \n",
      "\n",
      "In the notation of the previous slide this looks like:\n",
      "\n",
      "$$ k \\in C_{A_i} $$\n",
      "$$ k \\ne argmax_{j\\in C_{A_i}} \\{E_{U_i, A_i}[R]\\}$$\n",
      "\n",
      "In other words, an over-supplied category $k$ is a category which, when available fails to provide more revenue than other available categories. "
     ]
    },
    {
     "cell_type": "markdown",
     "metadata": {
      "slideshow": {
       "slide_type": "subslide"
      }
     },
     "source": [
      "Considerations\n",
      "=====\n",
      "\n",
      "* What if an advertiser targets two interest categories, and user has both of those interests? Divide credit uniformly?\n",
      "* This requires log data from auctions, may be unobserved cases in these logs.\n",
      "* This relies on estimating $MC$ as an opportunity cost, but if a user only has one interest, we would just assume $MC$ is near zero.\n",
      " * In cases with hi sell-thru by low price, $MC$ justify costly efforts to increase supply in a given category.\n",
      "* This approach is computationally appealing, mostly aggregating operations on existing numbers, easily doable at scale using Hive, or Map-Reduce."
     ]
    },
    {
     "cell_type": "markdown",
     "metadata": {
      "slideshow": {
       "slide_type": "slide"
      }
     },
     "source": [
      "Which advertiser verticals would benefit the most from advertising against this supply?\n",
      "======\n",
      "\n",
      "* If over-supplied category often appears with an expensive under-supplied category, it may be hard to compete.\n",
      " * Find verticals used to spending more than would be required to win in a category.\n",
      "* If a category hasn't been tested by a vertical, might be useful to encourage experiment.\n",
      "\n",
      "Verticals with sufficiently high bids could be tested as being a good fit.\n",
      "\n",
      "So, for some category $j \\in C_{A_i} $, it would be useful to know what kind of bid would be required to win a given auction.\n",
      "\n",
      "$$ B_{A_i} < B_v $$\n",
      "\n",
      "When many of the auctions featuring a category $j$ have winning bids below the average bid of a vertical, that may be a vertical that would benefit.\n",
      "\n",
      "Looking at places where the margin between vertical bids and category bids is large (bigger than $M$) could help priortize:\n",
      "\n",
      "$$ B_v  - B_{A_i} > M $$\n",
      "\n",
      "Ultimately these are speculative, perhaps verticals do not bid on a particular category because it won't work. Experiments could be run to test whether a vertical can actually perform in a given category.\n",
      "* Conduct an experiment to show different verticals randomly, see if any of those are effective.\n",
      "* Use observational data to see who else is being successful. Small share of advertisers in a vertical are having good results."
     ]
    },
    {
     "cell_type": "markdown",
     "metadata": {
      "slideshow": {
       "slide_type": "slide"
      }
     },
     "source": [
      "Which categories work best for different verticals?\n",
      "======\n",
      "\n",
      "Advertisers care about their CPC, so to decide what categories work best for different verticals we might calculate the CPC for a given vertical.\n",
      "\n",
      "This could be calculated by:\n",
      "\n",
      "$$ \\frac{1}{S_{j,v}}\\sum_{clicks_{j, v}} B_{A_i} $$\n",
      "\n",
      "The average cost of a click for vertical $v$ in category $j$.\n",
      "\n",
      "Ordering these in ascending order of average cost, would show the areas that work best for different verticals.\n",
      "\n",
      "Advertisers may value different clicks differently, so they may have a different ranking. In cases where they use conversion tracking to report the value of clicks back to the Twitter Ad analytics platform, we can calculate a different ranking:\n",
      "\n",
      "$$ \\frac{1}{S_{j, v}}\\sum_{clicks_{j, v}} revenue - B_{A_i} $$\n",
      "\n",
      "Which would be ordered in descending order to how the best category vertical matches."
     ]
    },
    {
     "cell_type": "markdown",
     "metadata": {
      "slideshow": {
       "slide_type": "slide"
      }
     },
     "source": [
      "Inventory Segmentation\n",
      "=======\n",
      "Define similarity as how correlated being in one category is with being in another category.\n",
      "\n",
      "For length $N$ vectors $x_j$ where $j\\in(1,2,...,P)$ where $P$ is the number of categories and $x_{j,i} = 1$ if user $i$ is in category $j$ and $0$ otherwise, then we compute the $PxP$ Pearson correlation coefficient matrix $R$ where the $$R_{i,j} = \\frac{cov(x_k,x_j)}{var(x_k)var(x_j)}$$\n",
      "\n",
      "High scores are candidates for combining into groups. One principled way of choosing these combinations is to use agglomerative clustering. "
     ]
    },
    {
     "cell_type": "code",
     "collapsed": false,
     "input": [
      "Image(\"http://upload.wikimedia.org/wikipedia/commons/thumb/a/ad/Hierarchical_clustering_simple_diagram.svg/418px-Hierarchical_clustering_simple_diagram.svg.png\")"
     ],
     "language": "python",
     "metadata": {
      "slideshow": {
       "slide_type": "subslide"
      }
     },
     "outputs": [
      {
       "metadata": {},
       "output_type": "pyout",
       "png": "[encoded data removed]",
       "prompt_number": 25,
       "text": [
        "<IPython.core.display.Image at 0x108a16710>"
       ]
      }
     ],
     "prompt_number": 25
    },
    {
     "cell_type": "markdown",
     "metadata": {
      "slideshow": {
       "slide_type": "fragment"
      }
     },
     "source": [
      "Pearson Correlation Matrix:\n",
      "* Implemented in Spark, is parallelizable (fortunately)\n",
      "Agglomerative clustering:\n",
      "* Yields groups that are mutually exclusive.\n",
      "* Can yield any number of groups.\n",
      "* Must define distance between groups and individuals\n",
      "* Easily done in R (hclust) or Python (sklearn)"
     ]
    },
    {
     "cell_type": "markdown",
     "metadata": {},
     "source": [
      "#Questions?\n",
      "\n",
      "@lemonlaug\n"
     ]
    }
   ],
   "metadata": {}
  }
 ]
}